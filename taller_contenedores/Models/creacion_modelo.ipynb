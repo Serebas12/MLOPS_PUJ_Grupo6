{
 "cells": [
  {
   "cell_type": "markdown",
   "metadata": {},
   "source": [
    "# Script de Entrenamiento de Modelos    "
   ]
  },
  {
   "cell_type": "markdown",
   "metadata": {},
   "source": [
    "En este código se encuentra el script base para el entrenamiento de modelos de clasificación para el script **penguins_size.csv**, por lo tanto el script está orientado para que se puedan hacer varios modelos. "
   ]
  },
  {
   "cell_type": "markdown",
   "metadata": {},
   "source": [
    "Hacemos el llamado de las librerías que necesitamos para el proceso"
   ]
  },
  {
   "cell_type": "code",
   "execution_count": null,
   "metadata": {},
   "outputs": [],
   "source": [
    "import numpy as np\n",
    "import pandas as pd\n",
    "from ydata_profiling import ProfileReport \n",
    "from datetime import datetime\n",
    "\n",
    "import os \n",
    "import joblib  \n",
    "import pickle\n",
    "from sklearn.model_selection import train_test_split\n",
    "from sklearn.pipeline import Pipeline\n",
    "from sklearn.compose import ColumnTransformer\n",
    "from sklearn.preprocessing import OneHotEncoder, StandardScaler\n",
    "from sklearn.ensemble import RandomForestClassifier\n",
    "from sklearn.svm import SVC\n",
    "from sklearn.metrics import accuracy_score"
   ]
  },
  {
   "cell_type": "markdown",
   "metadata": {},
   "source": [
    "##  Descriptivos Iniciales"
   ]
  },
  {
   "cell_type": "markdown",
   "metadata": {},
   "source": [
    "Hacemos el reporte de los descriptivos generales del conjunto de datos para que el usuario pueda familiarizarse con los datos, iniciamos con la visualización del conjunto de datos"
   ]
  },
  {
   "cell_type": "code",
   "execution_count": null,
   "metadata": {},
   "outputs": [],
   "source": [
    "print('Conjunto de Datos: ')\n",
    "df_view = pd.read_csv(\"penguins_size.csv\",sep=',')\n",
    "print(df_view)"
   ]
  },
  {
   "cell_type": "code",
   "execution_count": null,
   "metadata": {},
   "outputs": [],
   "source": [
    "print(df_view.info())"
   ]
  },
  {
   "cell_type": "markdown",
   "metadata": {},
   "source": [
    "Hacemos la construcción de los descriptivos, y los visualizamos"
   ]
  },
  {
   "cell_type": "code",
   "execution_count": null,
   "metadata": {},
   "outputs": [],
   "source": [
    "title_name = \"Pinguins_class\"\n",
    "date_file_name = \"ProfileReport_{}_{}.html\".format(datetime.now().strftime('%Y-%m-%d'), title_name)\n",
    "\n",
    "profile = ProfileReport(df_view, title='Profiling Report: ' + title_name, html={'style':{'full_width':True}})\n",
    "profile.to_file(output_file=date_file_name)"
   ]
  },
  {
   "cell_type": "code",
   "execution_count": null,
   "metadata": {},
   "outputs": [],
   "source": [
    "profile"
   ]
  },
  {
   "cell_type": "markdown",
   "metadata": {},
   "source": [
    "##  Proceso de Entrenamiento de los Modelos"
   ]
  },
  {
   "cell_type": "markdown",
   "metadata": {},
   "source": [
    "Para el proceso de entrenamiento de modelos nos orientaremos por la librería **scikit-learn** debido que esta librería es bastante completa para el entrenamiento de modelos de ML de manera fácil y sencilla"
   ]
  },
  {
   "cell_type": "markdown",
   "metadata": {},
   "source": [
    "Limpieza de datos innecesarios"
   ]
  },
  {
   "cell_type": "code",
   "execution_count": null,
   "metadata": {},
   "outputs": [],
   "source": [
    "df_view.dropna(inplace=True)\n",
    "df_view = df_view[df_view['sex']!='.']\n",
    "print(df_view)"
   ]
  },
  {
   "cell_type": "markdown",
   "metadata": {},
   "source": [
    "Selección de muestra de entrenamiento y validación, para el flujo de entrenamiento de datos"
   ]
  },
  {
   "cell_type": "code",
   "execution_count": null,
   "metadata": {},
   "outputs": [],
   "source": [
    "X = df_view.drop(columns=[\"species\"])\n",
    "y = df_view[\"species\"]\n",
    "text_cols = [\"island\", \"sex\"]\n",
    "num_cols = [\n",
    "    \"culmen_length_mm\", \"culmen_depth_mm\", \"flipper_length_mm\", \"body_mass_g\"\n",
    "]\n",
    "X_train, X_test, y_train, y_test = train_test_split(\n",
    "    X, y, test_size=0.3, random_state=42\n",
    ")\n",
    "\n",
    "preprocessor = ColumnTransformer(\n",
    "    transformers=[\n",
    "    (\"text\", OneHotEncoder(handle_unknown=\"ignore\"), text_cols),\n",
    "    (\"num\", StandardScaler(), num_cols)\n",
    "])"
   ]
  },
  {
   "cell_type": "markdown",
   "metadata": {},
   "source": [
    "###     Ejemplo de Entrenamiento de un Random Forest"
   ]
  },
  {
   "cell_type": "code",
   "execution_count": null,
   "metadata": {},
   "outputs": [],
   "source": [
    "#   Definir el pipeline del modelo\n",
    "modelRF = Pipeline([\n",
    "    (\"preprocessor\", preprocessor),\n",
    "    (\"classifier\", RandomForestClassifier(n_estimators=10, random_state=42))\n",
    "])\n",
    "#   Entrenar\n",
    "modelRF.fit(X_train, y_train)\n",
    "#   Evaluar\n",
    "y_pred = modelRF.predict(X_test)\n",
    "print(\"Precisión Modelo RF:\", accuracy_score(y_test, y_pred))\n",
    "\n",
    "# Guardar modelo en .pkl flotante\n",
    "with open(\"modeloRF.pkl\", \"wb\") as f:\n",
    "    pickle.dump(modelRF, f)"
   ]
  },
  {
   "cell_type": "markdown",
   "metadata": {},
   "source": [
    "###     Ejemplo de Entrenamiento de un SVM"
   ]
  },
  {
   "cell_type": "code",
   "execution_count": null,
   "metadata": {},
   "outputs": [],
   "source": [
    "#   Definir el pipeline del modelo\n",
    "modelSVM = Pipeline([\n",
    "    (\"preprocessor\", preprocessor),\n",
    "    (\"classifier\", SVC(kernel=\"linear\", probability=True))\n",
    "])\n",
    "#   Entrenar\n",
    "modelSVM.fit(X_train, y_train)\n",
    "#   Evaluar\n",
    "y_pred = modelSVM.predict(X_test)\n",
    "print(\"Precisión Modelo SVM:\", accuracy_score(y_test, y_pred))\n",
    "\n",
    "# Guardar modelo en .pkl flotante\n",
    "with open(\"modeloSVM.pkl\", \"wb\") as f:\n",
    "    pickle.dump(modelSVM, f)"
   ]
  },
  {
   "cell_type": "markdown",
   "metadata": {},
   "source": [
    "##   Conectar con el Volumen Persistente"
   ]
  },
  {
   "cell_type": "markdown",
   "metadata": {},
   "source": [
    "Ahora realizamos la conexión al volumen para guardar los modelos"
   ]
  },
  {
   "cell_type": "code",
   "execution_count": null,
   "metadata": {},
   "outputs": [],
   "source": [
    "log_dir_docker = \"/home/jovyan/work\"\n",
    "os.makedirs(log_dir_docker, exist_ok=True)"
   ]
  },
  {
   "cell_type": "markdown",
   "metadata": {},
   "source": [
    "Guardamos los modelos"
   ]
  },
  {
   "cell_type": "code",
   "execution_count": null,
   "metadata": {},
   "outputs": [],
   "source": [
    "joblib.dump(modelRF, os.path.join(log_dir_docker, \"modeloRF.pkl\"))\n",
    "\n",
    "joblib.dump(modelSVM, os.path.join(log_dir_docker, \"modeloSVM.pkl\"))"
   ]
  },
  {
   "cell_type": "markdown",
   "metadata": {},
   "source": [
    "Ahora se puede desarrollar otros modelos que recomendamos se encuentren dentro del repertorio que soporta **scikit-learn** "
   ]
  }
 ],
 "metadata": {
  "language_info": {
   "name": "python"
  }
 },
 "nbformat": 4,
 "nbformat_minor": 2
}
