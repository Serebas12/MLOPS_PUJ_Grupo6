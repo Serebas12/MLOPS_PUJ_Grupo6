{
 "cells": [
  {
   "cell_type": "markdown",
   "id": "b96cce8c-1083-4eb8-bc5a-c06b3214f146",
   "metadata": {},
   "source": [
    "#   Desarrollo Proyecto 1"
   ]
  },
  {
   "cell_type": "markdown",
   "id": "688ad2d8-3031-4c98-830a-3e723f1dced7",
   "metadata": {},
   "source": [
    "##  Entrada del Conjunto de Datos"
   ]
  },
  {
   "cell_type": "markdown",
   "id": "5a5e315d-90de-432a-8bfa-b4089cd0fcbf",
   "metadata": {},
   "source": [
    "Dejeme esta parte que me gustaría conectar esto con mi drive para leerlo como tal lo hizo el profe, para no depender de la disponibilidad de la solicitud para el despliegue "
   ]
  },
  {
   "cell_type": "code",
   "execution_count": 1,
   "id": "2b37ec21-7cd9-42a3-929e-981536336164",
   "metadata": {},
   "outputs": [
    {
     "name": "stdout",
     "output_type": "stream",
     "text": [
      "Archivo descargado exitosamente.\n"
     ]
    }
   ],
   "source": [
    "import os\n",
    "import requests\n",
    "\n",
    "# Directorio de los datos\n",
    "_data_root = './data/covertype'\n",
    "_data_filepath = os.path.join(_data_root, 'covertype_train.csv')\n",
    "\n",
    "# Crear el directorio si no existe\n",
    "os.makedirs(_data_root, exist_ok=True)\n",
    "\n",
    "# Descargar el archivo si no existe\n",
    "if not os.path.isfile(_data_filepath):\n",
    "    url = 'https://docs.google.com/uc?export=download&id=1lVF1BCWLH4eXXV_YOJzjR7xZjj-wAGj9'\n",
    "    r = requests.get(url, allow_redirects=True, stream=True)\n",
    "    if r.status_code == 200:\n",
    "        with open(_data_filepath, 'wb') as f:\n",
    "            f.write(r.content)\n",
    "        print(\"Archivo descargado exitosamente.\")\n",
    "    else:\n",
    "        print(f\"Error al descargar el archivo. Código de estado: {r.status_code}\")\n"
   ]
  },
  {
   "cell_type": "markdown",
   "id": "190e5f16-25a7-4139-b58a-ea5128a27be5",
   "metadata": {},
   "source": [
    "**Puntos a tomar en cuenta para construir el descriptivo**"
   ]
  }
 ],
 "metadata": {
  "kernelspec": {
   "display_name": "Python 3 (ipykernel)",
   "language": "python",
   "name": "python3"
  },
  "language_info": {
   "codemirror_mode": {
    "name": "ipython",
    "version": 3
   },
   "file_extension": ".py",
   "mimetype": "text/x-python",
   "name": "python",
   "nbconvert_exporter": "python",
   "pygments_lexer": "ipython3",
   "version": "3.11.11"
  }
 },
 "nbformat": 4,
 "nbformat_minor": 5
}
