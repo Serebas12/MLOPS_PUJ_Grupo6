{
 "cells": [
  {
   "cell_type": "code",
   "execution_count": 1,
   "metadata": {},
   "outputs": [],
   "source": [
    "import os\n",
    "import mlflow\n",
    "import requests\n",
    "import numpy as np\n",
    "import pandas as pd\n",
    "\n",
    "from sklearn.model_selection import train_test_split\n",
    "from sklearn.linear_model import LogisticRegression\n",
    "from sklearn.preprocessing import OneHotEncoder\n",
    "from sklearn.compose import make_column_transformer\n",
    "from sklearn.pipeline import Pipeline\n",
    "from sklearn.model_selection import GridSearchCV\n",
    "from sklearn.preprocessing import StandardScaler\n",
    "from sklearn.ensemble import RandomForestClassifier\n",
    "from sklearn.compose import ColumnTransformer"
   ]
  },
  {
   "cell_type": "code",
   "execution_count": 2,
   "metadata": {},
   "outputs": [],
   "source": [
    "df=pd.read_csv(\"C:/Users/jssaa/OneDrive/Documentos/sebastian saavedra/Maestria/Semestre 2025 01/MLops/Grupo6/Proyectos/Proyecto2/dags/covertype.csv\")\n",
    "df.head()\n",
    "\n",
    "X = df.drop(columns=[\"Cover_Type\"])\n",
    "y = df[\"Cover_Type\"]\n",
    "\n",
    "\n",
    "text_cols = [\"Wilderness_Area\", \"Soil_Type\"]\n",
    "num_cols = [\n",
    "    'Elevation', 'Aspect', 'Slope', 'Horizontal_Distance_To_Hydrology',\n",
    "       'Vertical_Distance_To_Hydrology', 'Horizontal_Distance_To_Roadways',\n",
    "       'Hillshade_9am', 'Hillshade_Noon', 'Hillshade_3pm',\n",
    "       'Horizontal_Distance_To_Fire_Points'\n",
    "]\n",
    "X_train, X_test, y_train, y_test = train_test_split(\n",
    "    X, y, test_size=0.3, random_state=42\n",
    ")\n"
   ]
  },
  {
   "cell_type": "code",
   "execution_count": 3,
   "metadata": {},
   "outputs": [],
   "source": [
    "preprocessor = ColumnTransformer(\n",
    "    transformers=[\n",
    "    (\"text\", OneHotEncoder(handle_unknown=\"ignore\"), text_cols),\n",
    "    (\"num\", StandardScaler(), num_cols)\n",
    "])\n",
    "\n",
    "modelRF = Pipeline([\n",
    "    (\"preprocessor\", preprocessor),\n",
    "    (\"classifier\", RandomForestClassifier(random_state=42))\n",
    "])"
   ]
  },
  {
   "cell_type": "code",
   "execution_count": 4,
   "metadata": {},
   "outputs": [],
   "source": [
    "# Definición de la grilla de parámetros para el RandomForestClassifier\n",
    "param_grid = {\n",
    "    \"classifier__n_estimators\": [10],\n",
    "    \"classifier__max_depth\": [ 5],\n",
    "    \"classifier__min_samples_split\": [2, 5]\n",
    "}\n",
    "\n",
    "grid_search = GridSearchCV(\n",
    "    estimator=modelRF,\n",
    "    param_grid=param_grid,\n",
    "    cv=5,               # Número de folds para validación cruzada\n",
    "    scoring=\"accuracy\", # Métrica de evaluación\n",
    "    n_jobs=-1,          # Utiliza todos los cores disponibles\n",
    "    verbose=2           # Muestra información del progreso\n",
    ")"
   ]
  },
  {
   "cell_type": "code",
   "execution_count": 5,
   "metadata": {},
   "outputs": [
    {
     "data": {
      "text/plain": [
       "Index(['Elevation', 'Aspect', 'Slope', 'Horizontal_Distance_To_Hydrology',\n",
       "       'Vertical_Distance_To_Hydrology', 'Horizontal_Distance_To_Roadways',\n",
       "       'Hillshade_9am', 'Hillshade_Noon', 'Hillshade_3pm',\n",
       "       'Horizontal_Distance_To_Fire_Points', 'Wilderness_Area', 'Soil_Type',\n",
       "       'Cover_Type'],\n",
       "      dtype='object')"
      ]
     },
     "execution_count": 5,
     "metadata": {},
     "output_type": "execute_result"
    }
   ],
   "source": [
    "df.columns"
   ]
  },
  {
   "cell_type": "code",
   "execution_count": 6,
   "metadata": {},
   "outputs": [
    {
     "name": "stderr",
     "output_type": "stream",
     "text": [
      "2025/03/24 22:48:42 INFO mlflow.tracking.fluent: Experiment with name 'mlflow_covertype_vf3' does not exist. Creating a new experiment.\n",
      "2025/03/24 22:48:46 WARNING mlflow.utils: Truncated the value of the key `estimator`. Truncated value: `Pipeline(steps=[('preprocessor',\n",
      "                 ColumnTransformer(transformers=[('text',\n",
      "                                                  OneHotEncoder(handle_unknown='ignore'),\n",
      "                                                  ['Wilderness_Area',\n",
      "                                                   'Soil_Type']),\n",
      "                                                 ('num', StandardScaler(),\n",
      "                                                  ['Elevation', 'Aspect',\n",
      "                               ...`\n"
     ]
    },
    {
     "name": "stdout",
     "output_type": "stream",
     "text": [
      "Fitting 5 folds for each of 2 candidates, totalling 10 fits\n"
     ]
    },
    {
     "name": "stderr",
     "output_type": "stream",
     "text": [
      "c:\\Users\\jssaa\\OneDrive\\Documentos\\sebastian saavedra\\Maestria\\Semestre 2025 01\\MLops\\Grupo6\\venv\\Lib\\site-packages\\sklearn\\metrics\\_classification.py:1344: UndefinedMetricWarning: Precision is ill-defined and being set to 0.0 in labels with no predicted samples. Use `zero_division` parameter to control this behavior.\n",
      "  _warn_prf(average, modifier, msg_start, len(result))\n",
      "2025/03/24 22:49:17 WARNING mlflow.utils.autologging_utils: MLflow autologging encountered a warning: \"c:\\Users\\jssaa\\OneDrive\\Documentos\\sebastian saavedra\\Maestria\\Semestre 2025 01\\MLops\\Grupo6\\venv\\Lib\\site-packages\\mlflow\\models\\signature.py:137: UserWarning: Hint: Inferred schema contains integer column(s). Integer columns in Python cannot represent missing values. If your input data contains missing values at inference time, it will be encoded as floats and will cause a schema enforcement error. The best way to avoid this problem is to infer the model schema based on a realistic data sample (training dataset) that includes missing values. Alternatively, you can declare integer columns as doubles (float64) whenever these columns may have missing values. See `Handling Integers With Missing Values <https://www.mlflow.org/docs/latest/models.html#handling-integers-with-missing-values>`_ for more details.\"\n",
      "2025/03/24 22:49:27 WARNING mlflow.utils.autologging_utils: MLflow autologging encountered a warning: \"c:\\Users\\jssaa\\OneDrive\\Documentos\\sebastian saavedra\\Maestria\\Semestre 2025 01\\MLops\\Grupo6\\venv\\Lib\\site-packages\\_distutils_hack\\__init__.py:33: UserWarning: Setuptools is replacing distutils.\"\n",
      "Successfully registered model 'modelo_covertype_vf3'.\n",
      "2025/03/24 22:49:28 INFO mlflow.tracking._model_registry.client: Waiting up to 300 seconds for model version to finish creation. Model name: modelo_covertype_vf3, version 1\n",
      "Created version '1' of model 'modelo_covertype_vf3'.\n",
      "2025/03/24 22:49:31 INFO mlflow.sklearn.utils: Logging the 27 best runs, no runs will be omitted.\n",
      "2025/03/24 22:49:31 WARNING mlflow.utils: Truncated the value of the key `steps`. Truncated value: `[('preprocessor', ColumnTransformer(transformers=[('text', OneHotEncoder(handle_unknown='ignore'),\n",
      "                                 ['Wilderness_Area', 'Soil_Type']),\n",
      "                                ('num', StandardScaler(),\n",
      "                                 ['Elevation', 'Aspect', 'Slope',\n",
      "                                  'Horizontal_Distance_To_Hydrology',\n",
      "                                  'Vertical_Distance_To_Hydrology',\n",
      "                                  'Horizontal_Distance_To_Roadways',...`\n",
      "2025/03/24 22:49:31 WARNING mlflow.utils: Truncated the value of the key `preprocessor`. Truncated value: `ColumnTransformer(transformers=[('text', OneHotEncoder(handle_unknown='ignore'),\n",
      "                                 ['Wilderness_Area', 'Soil_Type']),\n",
      "                                ('num', StandardScaler(),\n",
      "                                 ['Elevation', 'Aspect', 'Slope',\n",
      "                                  'Horizontal_Distance_To_Hydrology',\n",
      "                                  'Vertical_Distance_To_Hydrology',\n",
      "                                  'Horizontal_Distance_To_Roadways',\n",
      "                 ...`\n",
      "2025/03/24 22:49:31 WARNING mlflow.utils: Truncated the value of the key `steps`. Truncated value: `[('preprocessor', ColumnTransformer(transformers=[('text', OneHotEncoder(handle_unknown='ignore'),\n",
      "                                 ['Wilderness_Area', 'Soil_Type']),\n",
      "                                ('num', StandardScaler(),\n",
      "                                 ['Elevation', 'Aspect', 'Slope',\n",
      "                                  'Horizontal_Distance_To_Hydrology',\n",
      "                                  'Vertical_Distance_To_Hydrology',\n",
      "                                  'Horizontal_Distance_To_Roadways',...`\n",
      "2025/03/24 22:49:31 WARNING mlflow.utils: Truncated the value of the key `preprocessor`. Truncated value: `ColumnTransformer(transformers=[('text', OneHotEncoder(handle_unknown='ignore'),\n",
      "                                 ['Wilderness_Area', 'Soil_Type']),\n",
      "                                ('num', StandardScaler(),\n",
      "                                 ['Elevation', 'Aspect', 'Slope',\n",
      "                                  'Horizontal_Distance_To_Hydrology',\n",
      "                                  'Vertical_Distance_To_Hydrology',\n",
      "                                  'Horizontal_Distance_To_Roadways',\n",
      "                 ...`\n"
     ]
    }
   ],
   "source": [
    "import mlflow\n",
    "\n",
    "from sklearn.model_selection import train_test_split\n",
    "from sklearn.datasets import load_diabetes\n",
    "from sklearn.ensemble import RandomForestRegressor\n",
    "from sklearn.model_selection import GridSearchCV\n",
    "\n",
    "import os\n",
    "os.environ['MLFLOW_S3_ENDPOINT_URL'] = \"http://localhost:9000\"\n",
    "os.environ['AWS_ACCESS_KEY_ID'] = 'admin'\n",
    "os.environ['AWS_SECRET_ACCESS_KEY'] = 'supersecret'\n",
    "\n",
    "# connect to mlflow\n",
    "mlflow.set_tracking_uri(\"http://localhost:5000\")\n",
    "mlflow.set_experiment(\"mlflow_covertype_vf3\")\n",
    "\n",
    "mlflow.sklearn.autolog(log_model_signatures=True, log_input_examples=True, registered_model_name=\"modelo_covertype_vf3\", max_tuning_runs=27)\n",
    "\n",
    "with mlflow.start_run(run_name=\"autolog_pipe_model_reg\") as run:\n",
    "    grid_search.fit(X_train, y_train)\n"
   ]
  },
  {
   "cell_type": "code",
   "execution_count": 11,
   "metadata": {},
   "outputs": [
    {
     "name": "stdout",
     "output_type": "stream",
     "text": [
      "modelos_disponibles: ['modelo_covertype']\n"
     ]
    }
   ],
   "source": [
    "mlflow.set_tracking_uri(\"http://localhost:5000\") \n",
    "\n",
    "# Obtener la lista de modelos registrados en MLflow\n",
    "models = mlflow.search_registered_models()\n",
    "\n",
    "# Mostrar los modelos disponibles\n",
    "res_model=[]\n",
    "for model in models:\n",
    "    res_model.append(model.name)\n",
    "\n",
    "print (f\"modelos_disponibles: {res_model}\")"
   ]
  },
  {
   "cell_type": "code",
   "execution_count": 2,
   "metadata": {},
   "outputs": [
    {
     "name": "stderr",
     "output_type": "stream",
     "text": [
      "2025/03/25 19:29:37 WARNING mlflow.pyfunc: Detected one or more mismatches between the model's dependencies and the current Python environment:\n",
      " - psutil (current: 6.1.1, required: psutil==5.9.5)\n",
      " - scipy (current: 1.15.1, required: scipy==1.13.1)\n",
      "To fix the mismatches, call `mlflow.pyfunc.get_model_dependencies(model_uri)` to fetch the model's environment and install dependencies using the resulting environment file.\n",
      "2025/03/25 19:29:37 WARNING mlflow.pyfunc: The version of Python that the model was saved in, `Python 3.9.16`, differs from the version of Python that is currently running, `Python 3.11.9`, and may be incompatible\n"
     ]
    },
    {
     "ename": "TypeError",
     "evalue": "code() argument 13 must be str, not int",
     "output_type": "error",
     "traceback": [
      "\u001b[1;31m---------------------------------------------------------------------------\u001b[0m",
      "\u001b[1;31mTypeError\u001b[0m                                 Traceback (most recent call last)",
      "Cell \u001b[1;32mIn[2], line 28\u001b[0m\n\u001b[0;32m     25\u001b[0m model_production_uri \u001b[38;5;241m=\u001b[39m \u001b[38;5;124m\"\u001b[39m\u001b[38;5;124mmodels:/\u001b[39m\u001b[38;5;132;01m{model_name}\u001b[39;00m\u001b[38;5;124m/production\u001b[39m\u001b[38;5;124m\"\u001b[39m\u001b[38;5;241m.\u001b[39mformat(model_name\u001b[38;5;241m=\u001b[39mmodel_name)\n\u001b[0;32m     27\u001b[0m \u001b[38;5;66;03m# Load model as a PyFuncModel.\u001b[39;00m\n\u001b[1;32m---> 28\u001b[0m loaded_model \u001b[38;5;241m=\u001b[39m \u001b[43mmlflow\u001b[49m\u001b[38;5;241;43m.\u001b[39;49m\u001b[43mpyfunc\u001b[49m\u001b[38;5;241;43m.\u001b[39;49m\u001b[43mload_model\u001b[49m\u001b[43m(\u001b[49m\u001b[43mmodel_uri\u001b[49m\u001b[38;5;241;43m=\u001b[39;49m\u001b[43mmodel_production_uri\u001b[49m\u001b[43m)\u001b[49m\n\u001b[0;32m     30\u001b[0m \u001b[38;5;66;03m# Prediccion del modelo\u001b[39;00m\n\u001b[0;32m     31\u001b[0m predict \u001b[38;5;241m=\u001b[39m loaded_model\u001b[38;5;241m.\u001b[39mpredict(data)\n",
      "File \u001b[1;32mc:\\Users\\jssaa\\OneDrive\\Documentos\\sebastian saavedra\\Maestria\\Semestre 2025 01\\MLops\\Grupo6\\venv\\Lib\\site-packages\\mlflow\\pyfunc\\__init__.py:596\u001b[0m, in \u001b[0;36mload_model\u001b[1;34m(model_uri, suppress_warnings, dst_path)\u001b[0m\n\u001b[0;32m    594\u001b[0m _add_code_from_conf_to_system_path(local_path, conf, code_key\u001b[38;5;241m=\u001b[39mCODE)\n\u001b[0;32m    595\u001b[0m data_path \u001b[38;5;241m=\u001b[39m os\u001b[38;5;241m.\u001b[39mpath\u001b[38;5;241m.\u001b[39mjoin(local_path, conf[DATA]) \u001b[38;5;28;01mif\u001b[39;00m (DATA \u001b[38;5;129;01min\u001b[39;00m conf) \u001b[38;5;28;01melse\u001b[39;00m local_path\n\u001b[1;32m--> 596\u001b[0m model_impl \u001b[38;5;241m=\u001b[39m \u001b[43mimportlib\u001b[49m\u001b[38;5;241;43m.\u001b[39;49m\u001b[43mimport_module\u001b[49m\u001b[43m(\u001b[49m\u001b[43mconf\u001b[49m\u001b[43m[\u001b[49m\u001b[43mMAIN\u001b[49m\u001b[43m]\u001b[49m\u001b[43m)\u001b[49m\u001b[38;5;241;43m.\u001b[39;49m\u001b[43m_load_pyfunc\u001b[49m\u001b[43m(\u001b[49m\u001b[43mdata_path\u001b[49m\u001b[43m)\u001b[49m\n\u001b[0;32m    597\u001b[0m predict_fn \u001b[38;5;241m=\u001b[39m conf\u001b[38;5;241m.\u001b[39mget(\u001b[38;5;124m\"\u001b[39m\u001b[38;5;124mpredict_fn\u001b[39m\u001b[38;5;124m\"\u001b[39m, \u001b[38;5;124m\"\u001b[39m\u001b[38;5;124mpredict\u001b[39m\u001b[38;5;124m\"\u001b[39m)\n\u001b[0;32m    598\u001b[0m \u001b[38;5;28;01mreturn\u001b[39;00m PyFuncModel(model_meta\u001b[38;5;241m=\u001b[39mmodel_meta, model_impl\u001b[38;5;241m=\u001b[39mmodel_impl, predict_fn\u001b[38;5;241m=\u001b[39mpredict_fn)\n",
      "File \u001b[1;32mc:\\Users\\jssaa\\OneDrive\\Documentos\\sebastian saavedra\\Maestria\\Semestre 2025 01\\MLops\\Grupo6\\venv\\Lib\\site-packages\\mlflow\\sklearn\\__init__.py:509\u001b[0m, in \u001b[0;36m_load_pyfunc\u001b[1;34m(path)\u001b[0m\n\u001b[0;32m    504\u001b[0m     pyfunc_flavor_conf \u001b[38;5;241m=\u001b[39m _get_flavor_configuration(\n\u001b[0;32m    505\u001b[0m         model_path\u001b[38;5;241m=\u001b[39mpath, flavor_name\u001b[38;5;241m=\u001b[39mpyfunc\u001b[38;5;241m.\u001b[39mFLAVOR_NAME\n\u001b[0;32m    506\u001b[0m     )\n\u001b[0;32m    507\u001b[0m     path \u001b[38;5;241m=\u001b[39m os\u001b[38;5;241m.\u001b[39mpath\u001b[38;5;241m.\u001b[39mjoin(path, pyfunc_flavor_conf[\u001b[38;5;124m\"\u001b[39m\u001b[38;5;124mmodel_path\u001b[39m\u001b[38;5;124m\"\u001b[39m])\n\u001b[1;32m--> 509\u001b[0m \u001b[38;5;28;01mreturn\u001b[39;00m \u001b[43m_load_model_from_local_file\u001b[49m\u001b[43m(\u001b[49m\u001b[43mpath\u001b[49m\u001b[38;5;241;43m=\u001b[39;49m\u001b[43mpath\u001b[49m\u001b[43m,\u001b[49m\u001b[43m \u001b[49m\u001b[43mserialization_format\u001b[49m\u001b[38;5;241;43m=\u001b[39;49m\u001b[43mserialization_format\u001b[49m\u001b[43m)\u001b[49m\n",
      "File \u001b[1;32mc:\\Users\\jssaa\\OneDrive\\Documentos\\sebastian saavedra\\Maestria\\Semestre 2025 01\\MLops\\Grupo6\\venv\\Lib\\site-packages\\mlflow\\sklearn\\__init__.py:467\u001b[0m, in \u001b[0;36m_load_model_from_local_file\u001b[1;34m(path, serialization_format)\u001b[0m\n\u001b[0;32m    464\u001b[0m \u001b[38;5;28;01melif\u001b[39;00m serialization_format \u001b[38;5;241m==\u001b[39m SERIALIZATION_FORMAT_CLOUDPICKLE:\n\u001b[0;32m    465\u001b[0m     \u001b[38;5;28;01mimport\u001b[39;00m\u001b[38;5;250m \u001b[39m\u001b[38;5;21;01mcloudpickle\u001b[39;00m\n\u001b[1;32m--> 467\u001b[0m     \u001b[38;5;28;01mreturn\u001b[39;00m \u001b[43mcloudpickle\u001b[49m\u001b[38;5;241;43m.\u001b[39;49m\u001b[43mload\u001b[49m\u001b[43m(\u001b[49m\u001b[43mf\u001b[49m\u001b[43m)\u001b[49m\n",
      "\u001b[1;31mTypeError\u001b[0m: code() argument 13 must be str, not int"
     ]
    }
   ],
   "source": [
    "# Tratamiento de información\n",
    "data = pd.DataFrame([{\n",
    "  \"Elevation\": 2596,\n",
    "  \"Aspect\": 51,\n",
    "  \"Slope\": 3,\n",
    "  \"Horizontal_Distance_To_Hydrology\": 258,\n",
    "  \"Vertical_Distance_To_Hydrology\": 0,\n",
    "  \"Horizontal_Distance_To_Roadways\": 510,\n",
    "  \"Hillshade_9am\": 221,\n",
    "  \"Hillshade_Noon\": 232,\n",
    "  \"Hillshade_3pm\": 148,\n",
    "  \"Horizontal_Distance_To_Fire_Points\": 6279,\n",
    "  \"Wilderness_Area\": \"Rawah\",\n",
    "  \"Soil_Type\": \"C7745\"\n",
    "}])\n",
    "\n",
    "\n",
    "os.environ['MLFLOW_S3_ENDPOINT_URL'] = \"http://localhost:9000\"\n",
    "os.environ['AWS_ACCESS_KEY_ID'] = 'admin'\n",
    "os.environ['AWS_SECRET_ACCESS_KEY'] = 'supersecret'\n",
    "\n",
    "mlflow.set_tracking_uri(\"http://localhost:5000\")\n",
    "\n",
    "model_name = \"modelo_covertype_vf\"\n",
    "model_production_uri = \"models:/{model_name}/production\".format(model_name=model_name)\n",
    "\n",
    "# Load model as a PyFuncModel.\n",
    "loaded_model = mlflow.pyfunc.load_model(model_uri=model_production_uri)\n",
    "\n",
    "# Prediccion del modelo\n",
    "predict = loaded_model.predict(data)\n",
    "resultado = predict[0]"
   ]
  },
  {
   "cell_type": "code",
   "execution_count": 14,
   "metadata": {},
   "outputs": [
    {
     "name": "stdout",
     "output_type": "stream",
     "text": [
      "1\n"
     ]
    }
   ],
   "source": [
    "print(resultado) "
   ]
  }
 ],
 "metadata": {
  "kernelspec": {
   "display_name": "venv",
   "language": "python",
   "name": "python3"
  },
  "language_info": {
   "codemirror_mode": {
    "name": "ipython",
    "version": 3
   },
   "file_extension": ".py",
   "mimetype": "text/x-python",
   "name": "python",
   "nbconvert_exporter": "python",
   "pygments_lexer": "ipython3",
   "version": "3.11.9"
  }
 },
 "nbformat": 4,
 "nbformat_minor": 2
}
